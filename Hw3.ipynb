{
  "nbformat": 4,
  "nbformat_minor": 0,
  "metadata": {
    "colab": {
      "provenance": [],
      "authorship_tag": "ABX9TyN6SZI53bQhrCVyAj+sZ6Kw",
      "include_colab_link": true
    },
    "kernelspec": {
      "name": "python3",
      "display_name": "Python 3"
    },
    "language_info": {
      "name": "python"
    }
  },
  "cells": [
    {
      "cell_type": "markdown",
      "metadata": {
        "id": "view-in-github",
        "colab_type": "text"
      },
      "source": [
        "<a href=\"https://colab.research.google.com/github/Alena-Mishchenko/Homework_5/blob/main/Hw3.ipynb\" target=\"_parent\"><img src=\"https://colab.research.google.com/assets/colab-badge.svg\" alt=\"Open In Colab\"/></a>"
      ]
    },
    {
      "cell_type": "code",
      "execution_count": 85,
      "metadata": {
        "id": "yazgpr_vP0GQ"
      },
      "outputs": [],
      "source": [
        "import pandas as pd\n",
        "import numpy as np\n",
        "import matplotlib.pyplot as plt\n",
        "import seaborn as sns\n",
        "\n",
        "sns.set_style('darkgrid')"
      ]
    },
    {
      "cell_type": "code",
      "source": [
        "df = pd.read_csv('Housing.csv')\n",
        "df.head()"
      ],
      "metadata": {
        "colab": {
          "base_uri": "https://localhost:8080/",
          "height": 226
        },
        "id": "XdGSf1JcXrJs",
        "outputId": "0aa64521-36ab-4800-dbc6-992a5a4f04eb"
      },
      "execution_count": 86,
      "outputs": [
        {
          "output_type": "execute_result",
          "data": {
            "text/plain": [
              "      price  area  bedrooms  bathrooms  stories mainroad guestroom basement  \\\n",
              "0  13300000  7420         4          2        3      yes        no       no   \n",
              "1  12250000  8960         4          4        4      yes        no       no   \n",
              "2  12250000  9960         3          2        2      yes        no      yes   \n",
              "3  12215000  7500         4          2        2      yes        no      yes   \n",
              "4  11410000  7420         4          1        2      yes       yes      yes   \n",
              "\n",
              "  hotwaterheating airconditioning  parking prefarea furnishingstatus  \n",
              "0              no             yes        2      yes        furnished  \n",
              "1              no             yes        3       no        furnished  \n",
              "2              no              no        2      yes   semi-furnished  \n",
              "3              no             yes        3      yes        furnished  \n",
              "4              no             yes        2       no        furnished  "
            ],
            "text/html": [
              "\n",
              "  <div id=\"df-4391ddf8-f9ed-4b30-859d-95b55055b9e6\" class=\"colab-df-container\">\n",
              "    <div>\n",
              "<style scoped>\n",
              "    .dataframe tbody tr th:only-of-type {\n",
              "        vertical-align: middle;\n",
              "    }\n",
              "\n",
              "    .dataframe tbody tr th {\n",
              "        vertical-align: top;\n",
              "    }\n",
              "\n",
              "    .dataframe thead th {\n",
              "        text-align: right;\n",
              "    }\n",
              "</style>\n",
              "<table border=\"1\" class=\"dataframe\">\n",
              "  <thead>\n",
              "    <tr style=\"text-align: right;\">\n",
              "      <th></th>\n",
              "      <th>price</th>\n",
              "      <th>area</th>\n",
              "      <th>bedrooms</th>\n",
              "      <th>bathrooms</th>\n",
              "      <th>stories</th>\n",
              "      <th>mainroad</th>\n",
              "      <th>guestroom</th>\n",
              "      <th>basement</th>\n",
              "      <th>hotwaterheating</th>\n",
              "      <th>airconditioning</th>\n",
              "      <th>parking</th>\n",
              "      <th>prefarea</th>\n",
              "      <th>furnishingstatus</th>\n",
              "    </tr>\n",
              "  </thead>\n",
              "  <tbody>\n",
              "    <tr>\n",
              "      <th>0</th>\n",
              "      <td>13300000</td>\n",
              "      <td>7420</td>\n",
              "      <td>4</td>\n",
              "      <td>2</td>\n",
              "      <td>3</td>\n",
              "      <td>yes</td>\n",
              "      <td>no</td>\n",
              "      <td>no</td>\n",
              "      <td>no</td>\n",
              "      <td>yes</td>\n",
              "      <td>2</td>\n",
              "      <td>yes</td>\n",
              "      <td>furnished</td>\n",
              "    </tr>\n",
              "    <tr>\n",
              "      <th>1</th>\n",
              "      <td>12250000</td>\n",
              "      <td>8960</td>\n",
              "      <td>4</td>\n",
              "      <td>4</td>\n",
              "      <td>4</td>\n",
              "      <td>yes</td>\n",
              "      <td>no</td>\n",
              "      <td>no</td>\n",
              "      <td>no</td>\n",
              "      <td>yes</td>\n",
              "      <td>3</td>\n",
              "      <td>no</td>\n",
              "      <td>furnished</td>\n",
              "    </tr>\n",
              "    <tr>\n",
              "      <th>2</th>\n",
              "      <td>12250000</td>\n",
              "      <td>9960</td>\n",
              "      <td>3</td>\n",
              "      <td>2</td>\n",
              "      <td>2</td>\n",
              "      <td>yes</td>\n",
              "      <td>no</td>\n",
              "      <td>yes</td>\n",
              "      <td>no</td>\n",
              "      <td>no</td>\n",
              "      <td>2</td>\n",
              "      <td>yes</td>\n",
              "      <td>semi-furnished</td>\n",
              "    </tr>\n",
              "    <tr>\n",
              "      <th>3</th>\n",
              "      <td>12215000</td>\n",
              "      <td>7500</td>\n",
              "      <td>4</td>\n",
              "      <td>2</td>\n",
              "      <td>2</td>\n",
              "      <td>yes</td>\n",
              "      <td>no</td>\n",
              "      <td>yes</td>\n",
              "      <td>no</td>\n",
              "      <td>yes</td>\n",
              "      <td>3</td>\n",
              "      <td>yes</td>\n",
              "      <td>furnished</td>\n",
              "    </tr>\n",
              "    <tr>\n",
              "      <th>4</th>\n",
              "      <td>11410000</td>\n",
              "      <td>7420</td>\n",
              "      <td>4</td>\n",
              "      <td>1</td>\n",
              "      <td>2</td>\n",
              "      <td>yes</td>\n",
              "      <td>yes</td>\n",
              "      <td>yes</td>\n",
              "      <td>no</td>\n",
              "      <td>yes</td>\n",
              "      <td>2</td>\n",
              "      <td>no</td>\n",
              "      <td>furnished</td>\n",
              "    </tr>\n",
              "  </tbody>\n",
              "</table>\n",
              "</div>\n",
              "    <div class=\"colab-df-buttons\">\n",
              "\n",
              "  <div class=\"colab-df-container\">\n",
              "    <button class=\"colab-df-convert\" onclick=\"convertToInteractive('df-4391ddf8-f9ed-4b30-859d-95b55055b9e6')\"\n",
              "            title=\"Convert this dataframe to an interactive table.\"\n",
              "            style=\"display:none;\">\n",
              "\n",
              "  <svg xmlns=\"http://www.w3.org/2000/svg\" height=\"24px\" viewBox=\"0 -960 960 960\">\n",
              "    <path d=\"M120-120v-720h720v720H120Zm60-500h600v-160H180v160Zm220 220h160v-160H400v160Zm0 220h160v-160H400v160ZM180-400h160v-160H180v160Zm440 0h160v-160H620v160ZM180-180h160v-160H180v160Zm440 0h160v-160H620v160Z\"/>\n",
              "  </svg>\n",
              "    </button>\n",
              "\n",
              "  <style>\n",
              "    .colab-df-container {\n",
              "      display:flex;\n",
              "      gap: 12px;\n",
              "    }\n",
              "\n",
              "    .colab-df-convert {\n",
              "      background-color: #E8F0FE;\n",
              "      border: none;\n",
              "      border-radius: 50%;\n",
              "      cursor: pointer;\n",
              "      display: none;\n",
              "      fill: #1967D2;\n",
              "      height: 32px;\n",
              "      padding: 0 0 0 0;\n",
              "      width: 32px;\n",
              "    }\n",
              "\n",
              "    .colab-df-convert:hover {\n",
              "      background-color: #E2EBFA;\n",
              "      box-shadow: 0px 1px 2px rgba(60, 64, 67, 0.3), 0px 1px 3px 1px rgba(60, 64, 67, 0.15);\n",
              "      fill: #174EA6;\n",
              "    }\n",
              "\n",
              "    .colab-df-buttons div {\n",
              "      margin-bottom: 4px;\n",
              "    }\n",
              "\n",
              "    [theme=dark] .colab-df-convert {\n",
              "      background-color: #3B4455;\n",
              "      fill: #D2E3FC;\n",
              "    }\n",
              "\n",
              "    [theme=dark] .colab-df-convert:hover {\n",
              "      background-color: #434B5C;\n",
              "      box-shadow: 0px 1px 3px 1px rgba(0, 0, 0, 0.15);\n",
              "      filter: drop-shadow(0px 1px 2px rgba(0, 0, 0, 0.3));\n",
              "      fill: #FFFFFF;\n",
              "    }\n",
              "  </style>\n",
              "\n",
              "    <script>\n",
              "      const buttonEl =\n",
              "        document.querySelector('#df-4391ddf8-f9ed-4b30-859d-95b55055b9e6 button.colab-df-convert');\n",
              "      buttonEl.style.display =\n",
              "        google.colab.kernel.accessAllowed ? 'block' : 'none';\n",
              "\n",
              "      async function convertToInteractive(key) {\n",
              "        const element = document.querySelector('#df-4391ddf8-f9ed-4b30-859d-95b55055b9e6');\n",
              "        const dataTable =\n",
              "          await google.colab.kernel.invokeFunction('convertToInteractive',\n",
              "                                                    [key], {});\n",
              "        if (!dataTable) return;\n",
              "\n",
              "        const docLinkHtml = 'Like what you see? Visit the ' +\n",
              "          '<a target=\"_blank\" href=https://colab.research.google.com/notebooks/data_table.ipynb>data table notebook</a>'\n",
              "          + ' to learn more about interactive tables.';\n",
              "        element.innerHTML = '';\n",
              "        dataTable['output_type'] = 'display_data';\n",
              "        await google.colab.output.renderOutput(dataTable, element);\n",
              "        const docLink = document.createElement('div');\n",
              "        docLink.innerHTML = docLinkHtml;\n",
              "        element.appendChild(docLink);\n",
              "      }\n",
              "    </script>\n",
              "  </div>\n",
              "\n",
              "\n",
              "<div id=\"df-097afc0b-d20f-4e5f-a4ac-be6bc9f35ea3\">\n",
              "  <button class=\"colab-df-quickchart\" onclick=\"quickchart('df-097afc0b-d20f-4e5f-a4ac-be6bc9f35ea3')\"\n",
              "            title=\"Suggest charts\"\n",
              "            style=\"display:none;\">\n",
              "\n",
              "<svg xmlns=\"http://www.w3.org/2000/svg\" height=\"24px\"viewBox=\"0 0 24 24\"\n",
              "     width=\"24px\">\n",
              "    <g>\n",
              "        <path d=\"M19 3H5c-1.1 0-2 .9-2 2v14c0 1.1.9 2 2 2h14c1.1 0 2-.9 2-2V5c0-1.1-.9-2-2-2zM9 17H7v-7h2v7zm4 0h-2V7h2v10zm4 0h-2v-4h2v4z\"/>\n",
              "    </g>\n",
              "</svg>\n",
              "  </button>\n",
              "\n",
              "<style>\n",
              "  .colab-df-quickchart {\n",
              "      --bg-color: #E8F0FE;\n",
              "      --fill-color: #1967D2;\n",
              "      --hover-bg-color: #E2EBFA;\n",
              "      --hover-fill-color: #174EA6;\n",
              "      --disabled-fill-color: #AAA;\n",
              "      --disabled-bg-color: #DDD;\n",
              "  }\n",
              "\n",
              "  [theme=dark] .colab-df-quickchart {\n",
              "      --bg-color: #3B4455;\n",
              "      --fill-color: #D2E3FC;\n",
              "      --hover-bg-color: #434B5C;\n",
              "      --hover-fill-color: #FFFFFF;\n",
              "      --disabled-bg-color: #3B4455;\n",
              "      --disabled-fill-color: #666;\n",
              "  }\n",
              "\n",
              "  .colab-df-quickchart {\n",
              "    background-color: var(--bg-color);\n",
              "    border: none;\n",
              "    border-radius: 50%;\n",
              "    cursor: pointer;\n",
              "    display: none;\n",
              "    fill: var(--fill-color);\n",
              "    height: 32px;\n",
              "    padding: 0;\n",
              "    width: 32px;\n",
              "  }\n",
              "\n",
              "  .colab-df-quickchart:hover {\n",
              "    background-color: var(--hover-bg-color);\n",
              "    box-shadow: 0 1px 2px rgba(60, 64, 67, 0.3), 0 1px 3px 1px rgba(60, 64, 67, 0.15);\n",
              "    fill: var(--button-hover-fill-color);\n",
              "  }\n",
              "\n",
              "  .colab-df-quickchart-complete:disabled,\n",
              "  .colab-df-quickchart-complete:disabled:hover {\n",
              "    background-color: var(--disabled-bg-color);\n",
              "    fill: var(--disabled-fill-color);\n",
              "    box-shadow: none;\n",
              "  }\n",
              "\n",
              "  .colab-df-spinner {\n",
              "    border: 2px solid var(--fill-color);\n",
              "    border-color: transparent;\n",
              "    border-bottom-color: var(--fill-color);\n",
              "    animation:\n",
              "      spin 1s steps(1) infinite;\n",
              "  }\n",
              "\n",
              "  @keyframes spin {\n",
              "    0% {\n",
              "      border-color: transparent;\n",
              "      border-bottom-color: var(--fill-color);\n",
              "      border-left-color: var(--fill-color);\n",
              "    }\n",
              "    20% {\n",
              "      border-color: transparent;\n",
              "      border-left-color: var(--fill-color);\n",
              "      border-top-color: var(--fill-color);\n",
              "    }\n",
              "    30% {\n",
              "      border-color: transparent;\n",
              "      border-left-color: var(--fill-color);\n",
              "      border-top-color: var(--fill-color);\n",
              "      border-right-color: var(--fill-color);\n",
              "    }\n",
              "    40% {\n",
              "      border-color: transparent;\n",
              "      border-right-color: var(--fill-color);\n",
              "      border-top-color: var(--fill-color);\n",
              "    }\n",
              "    60% {\n",
              "      border-color: transparent;\n",
              "      border-right-color: var(--fill-color);\n",
              "    }\n",
              "    80% {\n",
              "      border-color: transparent;\n",
              "      border-right-color: var(--fill-color);\n",
              "      border-bottom-color: var(--fill-color);\n",
              "    }\n",
              "    90% {\n",
              "      border-color: transparent;\n",
              "      border-bottom-color: var(--fill-color);\n",
              "    }\n",
              "  }\n",
              "</style>\n",
              "\n",
              "  <script>\n",
              "    async function quickchart(key) {\n",
              "      const quickchartButtonEl =\n",
              "        document.querySelector('#' + key + ' button');\n",
              "      quickchartButtonEl.disabled = true;  // To prevent multiple clicks.\n",
              "      quickchartButtonEl.classList.add('colab-df-spinner');\n",
              "      try {\n",
              "        const charts = await google.colab.kernel.invokeFunction(\n",
              "            'suggestCharts', [key], {});\n",
              "      } catch (error) {\n",
              "        console.error('Error during call to suggestCharts:', error);\n",
              "      }\n",
              "      quickchartButtonEl.classList.remove('colab-df-spinner');\n",
              "      quickchartButtonEl.classList.add('colab-df-quickchart-complete');\n",
              "    }\n",
              "    (() => {\n",
              "      let quickchartButtonEl =\n",
              "        document.querySelector('#df-097afc0b-d20f-4e5f-a4ac-be6bc9f35ea3 button');\n",
              "      quickchartButtonEl.style.display =\n",
              "        google.colab.kernel.accessAllowed ? 'block' : 'none';\n",
              "    })();\n",
              "  </script>\n",
              "</div>\n",
              "\n",
              "    </div>\n",
              "  </div>\n"
            ],
            "application/vnd.google.colaboratory.intrinsic+json": {
              "type": "dataframe",
              "variable_name": "df",
              "summary": "{\n  \"name\": \"df\",\n  \"rows\": 545,\n  \"fields\": [\n    {\n      \"column\": \"price\",\n      \"properties\": {\n        \"dtype\": \"number\",\n        \"std\": 1870439,\n        \"min\": 1750000,\n        \"max\": 13300000,\n        \"num_unique_values\": 219,\n        \"samples\": [\n          3773000,\n          5285000,\n          1820000\n        ],\n        \"semantic_type\": \"\",\n        \"description\": \"\"\n      }\n    },\n    {\n      \"column\": \"area\",\n      \"properties\": {\n        \"dtype\": \"number\",\n        \"std\": 2170,\n        \"min\": 1650,\n        \"max\": 16200,\n        \"num_unique_values\": 284,\n        \"samples\": [\n          6000,\n          2684,\n          5360\n        ],\n        \"semantic_type\": \"\",\n        \"description\": \"\"\n      }\n    },\n    {\n      \"column\": \"bedrooms\",\n      \"properties\": {\n        \"dtype\": \"number\",\n        \"std\": 0,\n        \"min\": 1,\n        \"max\": 6,\n        \"num_unique_values\": 6,\n        \"samples\": [\n          4,\n          3,\n          1\n        ],\n        \"semantic_type\": \"\",\n        \"description\": \"\"\n      }\n    },\n    {\n      \"column\": \"bathrooms\",\n      \"properties\": {\n        \"dtype\": \"number\",\n        \"std\": 0,\n        \"min\": 1,\n        \"max\": 4,\n        \"num_unique_values\": 4,\n        \"samples\": [\n          4,\n          3,\n          2\n        ],\n        \"semantic_type\": \"\",\n        \"description\": \"\"\n      }\n    },\n    {\n      \"column\": \"stories\",\n      \"properties\": {\n        \"dtype\": \"number\",\n        \"std\": 0,\n        \"min\": 1,\n        \"max\": 4,\n        \"num_unique_values\": 4,\n        \"samples\": [\n          4,\n          1,\n          3\n        ],\n        \"semantic_type\": \"\",\n        \"description\": \"\"\n      }\n    },\n    {\n      \"column\": \"mainroad\",\n      \"properties\": {\n        \"dtype\": \"category\",\n        \"num_unique_values\": 2,\n        \"samples\": [\n          \"no\",\n          \"yes\"\n        ],\n        \"semantic_type\": \"\",\n        \"description\": \"\"\n      }\n    },\n    {\n      \"column\": \"guestroom\",\n      \"properties\": {\n        \"dtype\": \"category\",\n        \"num_unique_values\": 2,\n        \"samples\": [\n          \"yes\",\n          \"no\"\n        ],\n        \"semantic_type\": \"\",\n        \"description\": \"\"\n      }\n    },\n    {\n      \"column\": \"basement\",\n      \"properties\": {\n        \"dtype\": \"category\",\n        \"num_unique_values\": 2,\n        \"samples\": [\n          \"yes\",\n          \"no\"\n        ],\n        \"semantic_type\": \"\",\n        \"description\": \"\"\n      }\n    },\n    {\n      \"column\": \"hotwaterheating\",\n      \"properties\": {\n        \"dtype\": \"category\",\n        \"num_unique_values\": 2,\n        \"samples\": [\n          \"yes\",\n          \"no\"\n        ],\n        \"semantic_type\": \"\",\n        \"description\": \"\"\n      }\n    },\n    {\n      \"column\": \"airconditioning\",\n      \"properties\": {\n        \"dtype\": \"category\",\n        \"num_unique_values\": 2,\n        \"samples\": [\n          \"no\",\n          \"yes\"\n        ],\n        \"semantic_type\": \"\",\n        \"description\": \"\"\n      }\n    },\n    {\n      \"column\": \"parking\",\n      \"properties\": {\n        \"dtype\": \"number\",\n        \"std\": 0,\n        \"min\": 0,\n        \"max\": 3,\n        \"num_unique_values\": 4,\n        \"samples\": [\n          3,\n          1\n        ],\n        \"semantic_type\": \"\",\n        \"description\": \"\"\n      }\n    },\n    {\n      \"column\": \"prefarea\",\n      \"properties\": {\n        \"dtype\": \"category\",\n        \"num_unique_values\": 2,\n        \"samples\": [\n          \"no\",\n          \"yes\"\n        ],\n        \"semantic_type\": \"\",\n        \"description\": \"\"\n      }\n    },\n    {\n      \"column\": \"furnishingstatus\",\n      \"properties\": {\n        \"dtype\": \"category\",\n        \"num_unique_values\": 3,\n        \"samples\": [\n          \"furnished\",\n          \"semi-furnished\"\n        ],\n        \"semantic_type\": \"\",\n        \"description\": \"\"\n      }\n    }\n  ]\n}"
            }
          },
          "metadata": {},
          "execution_count": 86
        }
      ]
    },
    {
      "cell_type": "code",
      "source": [
        "def hypothesis(X, theta):\n",
        "    return np.dot(X, theta)\n",
        "# def hypothesis(X, weights, bias):\n",
        "#     return np.dot(X, weights) + bias\n"
      ],
      "metadata": {
        "id": "43v36-LucBQv"
      },
      "execution_count": 87,
      "outputs": []
    },
    {
      "cell_type": "code",
      "source": [
        "def compute_cost(X, y, theta):\n",
        "    n_samples = X.shape[0]\n",
        "    y_predicted = hypothesis(X, theta)\n",
        "    difference = y_predicted - y\n",
        "    cost = (1 / (2 * n_samples)) * np.sum(difference ** 2)\n",
        "    return cost\n",
        "\n",
        "# def compute_cost(X, y, weights, bias):\n",
        "#     # m = len(y)\n",
        "#     n_samples = X.shape[0]\n",
        "#     y_predicted = hypothesis(X, weights, bias)\n",
        "#     difference = y_predicted - y\n",
        "#     cost = (1 / (2 * n_samples)) * np.sum(difference ** 2)\n",
        "#     return cost\n",
        "\n"
      ],
      "metadata": {
        "id": "I_--ow_Gf-9C"
      },
      "execution_count": 88,
      "outputs": []
    },
    {
      "cell_type": "code",
      "source": [
        "def gradient_descent_step(X, y, theta, learning_rate):\n",
        "    n_samples = X.shape[0]\n",
        "    y_predicted = hypothesis(X, theta)\n",
        "    difference = y_predicted - y\n",
        "\n",
        "    # compute gradients\n",
        "    dtheta = (1 / n_samples) * np.dot(X.T, difference)\n",
        "\n",
        "    # update parameters\n",
        "    theta -= learning_rate * dtheta\n",
        "    return theta\n",
        "\n",
        "# def gradient_descent_step(X, y, weights, bias, learning_rate):\n",
        "#     n_samples = X.shape[0]\n",
        "#     costs = []\n",
        "#     y_predicted = hypothesis(X, weights, bias)\n",
        "#     difference = y_predicted - y\n",
        "#    # compute gradients\n",
        "#     dw = (1 / n_samples) * np.dot(X.T, difference)\n",
        "#     db = (1 / n_samples) * np.sum(difference)\n",
        "#    # update parameters\n",
        "#     weights -= learning_rate * dw\n",
        "#     bias -= learning_rate * db\n",
        "#     return weights, bias\n"
      ],
      "metadata": {
        "id": "i8YBVe-3tqug"
      },
      "execution_count": 89,
      "outputs": []
    },
    {
      "cell_type": "code",
      "source": [
        "def gradient_descent(X, y, theta, learning_rate, n_iters):\n",
        "    costs = []\n",
        "    for i in range(n_iters):\n",
        "        theta = gradient_descent_step(X, y, theta, learning_rate)\n",
        "        cost = compute_cost(X, y, theta)\n",
        "        costs.append(cost)\n",
        "    return theta, costs\n",
        "\n",
        "# def gradient_descent(X, y, weights, bias, learning_rate, n_iters):\n",
        "#     costs = []\n",
        "#     for i in range(n_iters):\n",
        "#         weights, bias = gradient_descent_step(X, y, weights, bias, learning_rate)\n",
        "#         cost = compute_cost(X, y, weights, bias)\n",
        "#         costs.append(cost)\n",
        "\n",
        "#     return weights, bias, costs\n"
      ],
      "metadata": {
        "id": "-gsXig8vQBwq"
      },
      "execution_count": 90,
      "outputs": []
    },
    {
      "cell_type": "code",
      "source": [
        "\n",
        "X = df[['area', 'bedrooms', 'bathrooms']].values\n",
        "y = df['price'].values.reshape(-1, 1)\n",
        "n_samples, n_features = X.shape\n",
        "# weights = np.zeros(n_features)\n",
        "# bias = 0\n",
        "learning_rate = 0.01\n",
        "n_iters = 500\n",
        "y = y.reshape(y.shape[0])\n",
        "\n",
        "ones = np.ones((X.shape[0], 1))\n",
        "X_b = np.hstack((ones, X))\n",
        "theta = np.zeros((n_features + 1, 1))\n",
        "\n",
        "print(f\"X     --> shape: {X.shape}\")\n",
        "print(f\"y     --> shape: {y.shape}\")\n",
        "# print(f\"THETA --> shape: {weights.shape}\")\n",
        "print(f\"THETA --> shape: {theta.shape}\")\n",
        "\n",
        "normalized_df = df.copy(deep=True)\n",
        "normalized_df.area = (df.area - df.area.mean()) / df.area.std()\n",
        "normalized_df.price = (df.price - df.price.mean()) / df.price.std()\n",
        "normalized_df.bedrooms = (df.bedrooms - df.bedrooms.mean()) / df.bedrooms.std()\n",
        "normalized_df.bathrooms = (df.bathrooms - df.bathrooms.mean()) / df.bathrooms.std()\n",
        "\n"
      ],
      "metadata": {
        "colab": {
          "base_uri": "https://localhost:8080/"
        },
        "id": "8ug0uTTkyNSR",
        "outputId": "b50dfcee-1e00-4509-a9eb-2a0d3df552f6"
      },
      "execution_count": 91,
      "outputs": [
        {
          "output_type": "stream",
          "name": "stdout",
          "text": [
            "X     --> shape: (545, 3)\n",
            "y     --> shape: (545,)\n",
            "THETA --> shape: (4, 1)\n"
          ]
        }
      ]
    },
    {
      "cell_type": "code",
      "source": [
        "\n",
        "normalized_df = df.copy(deep=True)\n",
        "normalized_df['area'] = (df['area'] - df['area'].mean()) / df['area'].std()\n",
        "normalized_df['price'] = (df['price'] - df['price'].mean()) / df['price'].std()\n",
        "normalized_df['bedrooms'] = (df['bedrooms'] - df['bedrooms'].mean()) / df['bedrooms'].std()\n",
        "normalized_df['bathrooms'] = (df['bathrooms'] - df['bathrooms'].mean()) / df['bathrooms'].std()\n",
        "\n",
        "X_train = np.array(normalized_df[['area', 'bedrooms', 'bathrooms']])\n",
        "y_train = np.array(normalized_df['price']).reshape(-1, 1)\n",
        "\n",
        "ones = np.ones((X_train.shape[0], 1))\n",
        "X_b = np.hstack((ones, X_train))\n",
        "\n",
        "n_samples, n_features = X_train.shape\n",
        "# weights = np.zeros((n_features, 1))\n",
        "# bias = 0\n",
        "theta = np.zeros((n_features + 1, 1))\n",
        "learning_rate = 0.01\n",
        "n_iters = 500\n",
        "\n",
        "print(f\"X     --> shape: {X_train.shape}\")\n",
        "print(f\"y     --> shape: {y_train.shape}\")\n",
        "# print(f\"THETA --> shape: {weights.shape}\")\n",
        "print(f\"THETA --> shape: {theta.shape}\")\n",
        "\n",
        "theta, costs = gradient_descent(X_b, y_train, theta, learning_rate, n_iters)\n",
        "# weights, bias, costs = gradient_descent(X_train, y_train, weights, bias, learning_rate, n_iters)\n",
        "\n",
        "\n",
        "\n",
        "# print(\"Оновлені ваги:\")\n",
        "# print(weights)\n",
        "# print(\"Оновлений bias:\")\n",
        "# print(bias)\n",
        "print(\"Оновлені параметри :\")\n",
        "print(theta)\n",
        "print(\"Значення функції втрат (останнє):\")\n",
        "print(costs[-1])\n",
        "\n",
        "# Візуалізація функції втрат\n",
        "sns.lineplot(x=range(len(costs)), y=costs)\n",
        "plt.xlabel(\"Iterations\")\n",
        "plt.ylabel(\"Cost\")\n",
        "plt.title(\"Cost Function during Gradient Descent\")\n",
        "plt.show()\n",
        "\n",
        "\n"
      ],
      "metadata": {
        "colab": {
          "base_uri": "https://localhost:8080/",
          "height": 646
        },
        "id": "xIx1-E-6Z-8d",
        "outputId": "8b926ec9-0971-4c5a-aec6-f39b4458d112"
      },
      "execution_count": 92,
      "outputs": [
        {
          "output_type": "stream",
          "name": "stdout",
          "text": [
            "X     --> shape: (545, 3)\n",
            "y     --> shape: (545, 1)\n",
            "THETA --> shape: (4, 1)\n",
            "Оновлені параметри :\n",
            "[[2.80550303e-16]\n",
            " [4.37267583e-01]\n",
            " [1.64993836e-01]\n",
            " [3.69079904e-01]]\n",
            "Значення функції втрат (останнє):\n",
            "0.2560000121424934\n"
          ]
        },
        {
          "output_type": "display_data",
          "data": {
            "text/plain": [
              "<Figure size 640x480 with 1 Axes>"
            ],
            "image/png": "[encoded data removed]"
          },
          "metadata": {}
        }
      ]
    },
    {
      "cell_type": "markdown",
      "source": [
        "TEST\n"
      ],
      "metadata": {
        "id": "bHoKk4mkq6QV"
      }
    },
    {
      "cell_type": "code",
      "source": [
        "normalized_df = df.copy(deep=True)\n",
        "\n",
        "area, bedrooms, bathrooms = 50, 1, 1\n",
        "\n",
        "test_area = (area - df.area.mean()) / df.area.std()\n",
        "test_bedrooms = (bedrooms - df.bedrooms.mean()) / df.bedrooms.std()\n",
        "test_bathrooms = (bathrooms - df.bathrooms.mean()) / df.bathrooms.std()\n",
        "\n",
        "X_test = np.array([[1, test_area, test_bedrooms, test_bathrooms]])\n",
        "predicted_normalized_price = np.dot(X_test, theta)\n",
        "\n",
        "predicted_price = predicted_normalized_price * df['price'].std() + df['price'].mean()\n",
        "# predicted_normalized_price, predicted_price\n",
        "\n",
        "print(\"Нормалізована прогнозована ціна:\", predicted_normalized_price[0][0])\n",
        "print(\"Денормалізована прогнозована ціна:\", predicted_price[0][0])"
      ],
      "metadata": {
        "colab": {
          "base_uri": "https://localhost:8080/"
        },
        "id": "nKtHhAKKb8SN",
        "outputId": "dbabee02-2e35-4ba4-a7ba-6e2868eb7702"
      },
      "execution_count": 93,
      "outputs": [
        {
          "output_type": "stream",
          "name": "stdout",
          "text": [
            "Нормалізована прогнозована ціна: -1.6772787629455188\n",
            "Денормалізована прогнозована ціна: 1629480.602992299\n"
          ]
        }
      ]
    },
    {
      "cell_type": "markdown",
      "source": [
        "параметри за допомогою аналітичного рішення"
      ],
      "metadata": {
        "id": "TnD5q86WYxoz"
      }
    },
    {
      "cell_type": "code",
      "source": [
        "import numpy as np\n",
        "import pandas as pd\n",
        "\n",
        "def normal_equation(X, y):\n",
        "    X_transpose = X.T\n",
        "    theta_normal_equation = np.linalg.inv(X_transpose.dot(X)).dot(X_transpose).dot(y)\n",
        "    return theta_normal_equation\n",
        "\n",
        "\n"
      ],
      "metadata": {
        "id": "tJ4OlpoRyUvg"
      },
      "execution_count": 94,
      "outputs": []
    },
    {
      "cell_type": "code",
      "source": [
        "normalized_df = df.copy(deep=True)\n",
        "normalized_df['area'] = (df['area'] - df['area'].mean()) / df['area'].std()\n",
        "normalized_df['price'] = (df['price'] - df['price'].mean()) / df['price'].std()\n",
        "normalized_df['bedrooms'] = (df['bedrooms'] - df['bedrooms'].mean()) / df['bedrooms'].std()\n",
        "normalized_df['bathrooms'] = (df['bathrooms'] - df['bathrooms'].mean()) / df['bathrooms'].std()\n",
        "\n",
        "X_train = np.array(normalized_df[['area', 'bedrooms', 'bathrooms']])\n",
        "y_train = np.array(normalized_df['price']).reshape(-1, 1)\n",
        "\n",
        "ones = np.ones((X_train.shape[0], 1))\n",
        "X_b = np.hstack((ones, X_train))\n",
        "\n",
        "theta_normal_equation = normal_equation(X_b, y_train)\n",
        "\n",
        "print(\"Параметри за допомогою аналітичного рішення:\")\n",
        "print(theta_normal_equation)\n",
        "\n"
      ],
      "metadata": {
        "colab": {
          "base_uri": "https://localhost:8080/"
        },
        "id": "_a-c2Iu2Watt",
        "outputId": "4536abe8-b510-4bc7-fbb8-42a43a8052b8"
      },
      "execution_count": 95,
      "outputs": [
        {
          "output_type": "stream",
          "name": "stdout",
          "text": [
            "Параметри за допомогою аналітичного рішення:\n",
            "[[-3.03013178e-16]\n",
            " [ 4.39452085e-01]\n",
            " [ 1.60528660e-01]\n",
            " [ 3.72344423e-01]]\n"
          ]
        }
      ]
    },
    {
      "cell_type": "markdown",
      "source": [
        "TEST"
      ],
      "metadata": {
        "id": "uqtTIycZzYoN"
      }
    },
    {
      "cell_type": "code",
      "source": [
        "normalized_df = df.copy(deep=True)\n",
        "\n",
        "area, bedrooms, bathrooms = 50, 1, 1\n",
        "\n",
        "test_area = (area - df.area.mean()) / df.area.std()\n",
        "test_bedrooms = (bedrooms - df.bedrooms.mean()) / df.bedrooms.std()\n",
        "test_bathrooms = (bathrooms - df.bathrooms.mean()) / df.bathrooms.std()\n",
        "\n",
        "X_t = np.array([1, test_area, test_bedrooms, test_bathrooms]).reshape(1, -1)\n",
        "\n",
        "predicted_price_normal_equation = X_t.dot(theta_normal_equation)\n",
        "\n",
        "denormalized_price = predicted_price_normal_equation[0, 0] * df['price'].std() + df['price'].mean()\n",
        "\n",
        "print(\"Нормалізована прогнозована ціна:\", predicted_price_normal_equation[0, 0])\n",
        "print(\"Денормалізована прогнозована ціна:\", denormalized_price)\n"
      ],
      "metadata": {
        "colab": {
          "base_uri": "https://localhost:8080/"
        },
        "id": "DwT3WAeozlQV",
        "outputId": "c027abfb-1573-45bd-ee51-8ba4ae40be3f"
      },
      "execution_count": 96,
      "outputs": [
        {
          "output_type": "stream",
          "name": "stdout",
          "text": [
            "Нормалізована прогнозована ціна: -1.6723839464874726\n",
            "Денормалізована прогнозована ціна: 1638636.0616068006\n"
          ]
        }
      ]
    }
  ]
}
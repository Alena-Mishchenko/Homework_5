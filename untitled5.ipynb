{
  "nbformat": 4,
  "nbformat_minor": 0,
  "metadata": {
    "colab": {
      "provenance": [],
      "toc_visible": true,
      "authorship_tag": "ABX9TyMi2DeS2p0sdoJsJrTtVygn",
      "include_colab_link": true
    },
    "kernelspec": {
      "name": "python3",
      "display_name": "Python 3"
    },
    "language_info": {
      "name": "python"
    }
  },
  "cells": [
    {
      "cell_type": "markdown",
      "metadata": {
        "id": "view-in-github",
        "colab_type": "text"
      },
      "source": [
        "<a href=\"https://colab.research.google.com/github/Alena-Mishchenko/Homework_5/blob/main/untitled5.ipynb\" target=\"_parent\"><img src=\"https://colab.research.google.com/assets/colab-badge.svg\" alt=\"Open In Colab\"/></a>"
      ]
    },
    {
      "cell_type": "code",
      "execution_count": null,
      "metadata": {
        "id": "EbexMj69Wo6r"
      },
      "outputs": [],
      "source": [
        "import os\n",
        "import pandas as pd\n",
        "import numpy as np\n",
        "from scipy.stats import entropy\n",
        "from scipy.fft import fft"
      ]
    },
    {
      "cell_type": "code",
      "source": [
        "from google.colab import files\n",
        "uploaded = files.upload()"
      ],
      "metadata": {
        "colab": {
          "base_uri": "https://localhost:8080/",
          "height": 73
        },
        "id": "IOB8P76DC9hw",
        "outputId": "12418082-a52a-4934-f29c-7c9cc10a7447"
      },
      "execution_count": null,
      "outputs": [
        {
          "output_type": "display_data",
          "data": {
            "text/plain": [
              "<IPython.core.display.HTML object>"
            ],
            "text/html": [
              "\n",
              "     <input type=\"file\" id=\"files-68e5bee5-5d82-428f-8064-cf8dd552f5e1\" name=\"files[]\" multiple disabled\n",
              "        style=\"border:none\" />\n",
              "     <output id=\"result-68e5bee5-5d82-428f-8064-cf8dd552f5e1\">\n",
              "      Upload widget is only available when the cell has been executed in the\n",
              "      current browser session. Please rerun this cell to enable.\n",
              "      </output>\n",
              "      <script>// Copyright 2017 Google LLC\n",
              "//\n",
              "// Licensed under the Apache License, Version 2.0 (the \"License\");\n",
              "// you may not use this file except in compliance with the License.\n",
              "// You may obtain a copy of the License at\n",
              "//\n",
              "//      http://www.apache.org/licenses/LICENSE-2.0\n",
              "//\n",
              "// Unless required by applicable law or agreed to in writing, software\n",
              "// distributed under the License is distributed on an \"AS IS\" BASIS,\n",
              "// WITHOUT WARRANTIES OR CONDITIONS OF ANY KIND, either express or implied.\n",
              "// See the License for the specific language governing permissions and\n",
              "// limitations under the License.\n",
              "\n",
              "/**\n",
              " * @fileoverview Helpers for google.colab Python module.\n",
              " */\n",
              "(function(scope) {\n",
              "function span(text, styleAttributes = {}) {\n",
              "  const element = document.createElement('span');\n",
              "  element.textContent = text;\n",
              "  for (const key of Object.keys(styleAttributes)) {\n",
              "    element.style[key] = styleAttributes[key];\n",
              "  }\n",
              "  return element;\n",
              "}\n",
              "\n",
              "// Max number of bytes which will be uploaded at a time.\n",
              "const MAX_PAYLOAD_SIZE = 100 * 1024;\n",
              "\n",
              "function _uploadFiles(inputId, outputId) {\n",
              "  const steps = uploadFilesStep(inputId, outputId);\n",
              "  const outputElement = document.getElementById(outputId);\n",
              "  // Cache steps on the outputElement to make it available for the next call\n",
              "  // to uploadFilesContinue from Python.\n",
              "  outputElement.steps = steps;\n",
              "\n",
              "  return _uploadFilesContinue(outputId);\n",
              "}\n",
              "\n",
              "// This is roughly an async generator (not supported in the browser yet),\n",
              "// where there are multiple asynchronous steps and the Python side is going\n",
              "// to poll for completion of each step.\n",
              "// This uses a Promise to block the python side on completion of each step,\n",
              "// then passes the result of the previous step as the input to the next step.\n",
              "function _uploadFilesContinue(outputId) {\n",
              "  const outputElement = document.getElementById(outputId);\n",
              "  const steps = outputElement.steps;\n",
              "\n",
              "  const next = steps.next(outputElement.lastPromiseValue);\n",
              "  return Promise.resolve(next.value.promise).then((value) => {\n",
              "    // Cache the last promise value to make it available to the next\n",
              "    // step of the generator.\n",
              "    outputElement.lastPromiseValue = value;\n",
              "    return next.value.response;\n",
              "  });\n",
              "}\n",
              "\n",
              "/**\n",
              " * Generator function which is called between each async step of the upload\n",
              " * process.\n",
              " * @param {string} inputId Element ID of the input file picker element.\n",
              " * @param {string} outputId Element ID of the output display.\n",
              " * @return {!Iterable<!Object>} Iterable of next steps.\n",
              " */\n",
              "function* uploadFilesStep(inputId, outputId) {\n",
              "  const inputElement = document.getElementById(inputId);\n",
              "  inputElement.disabled = false;\n",
              "\n",
              "  const outputElement = document.getElementById(outputId);\n",
              "  outputElement.innerHTML = '';\n",
              "\n",
              "  const pickedPromise = new Promise((resolve) => {\n",
              "    inputElement.addEventListener('change', (e) => {\n",
              "      resolve(e.target.files);\n",
              "    });\n",
              "  });\n",
              "\n",
              "  const cancel = document.createElement('button');\n",
              "  inputElement.parentElement.appendChild(cancel);\n",
              "  cancel.textContent = 'Cancel upload';\n",
              "  const cancelPromise = new Promise((resolve) => {\n",
              "    cancel.onclick = () => {\n",
              "      resolve(null);\n",
              "    };\n",
              "  });\n",
              "\n",
              "  // Wait for the user to pick the files.\n",
              "  const files = yield {\n",
              "    promise: Promise.race([pickedPromise, cancelPromise]),\n",
              "    response: {\n",
              "      action: 'starting',\n",
              "    }\n",
              "  };\n",
              "\n",
              "  cancel.remove();\n",
              "\n",
              "  // Disable the input element since further picks are not allowed.\n",
              "  inputElement.disabled = true;\n",
              "\n",
              "  if (!files) {\n",
              "    return {\n",
              "      response: {\n",
              "        action: 'complete',\n",
              "      }\n",
              "    };\n",
              "  }\n",
              "\n",
              "  for (const file of files) {\n",
              "    const li = document.createElement('li');\n",
              "    li.append(span(file.name, {fontWeight: 'bold'}));\n",
              "    li.append(span(\n",
              "        `(${file.type || 'n/a'}) - ${file.size} bytes, ` +\n",
              "        `last modified: ${\n",
              "            file.lastModifiedDate ? file.lastModifiedDate.toLocaleDateString() :\n",
              "                                    'n/a'} - `));\n",
              "    const percent = span('0% done');\n",
              "    li.appendChild(percent);\n",
              "\n",
              "    outputElement.appendChild(li);\n",
              "\n",
              "    const fileDataPromise = new Promise((resolve) => {\n",
              "      const reader = new FileReader();\n",
              "      reader.onload = (e) => {\n",
              "        resolve(e.target.result);\n",
              "      };\n",
              "      reader.readAsArrayBuffer(file);\n",
              "    });\n",
              "    // Wait for the data to be ready.\n",
              "    let fileData = yield {\n",
              "      promise: fileDataPromise,\n",
              "      response: {\n",
              "        action: 'continue',\n",
              "      }\n",
              "    };\n",
              "\n",
              "    // Use a chunked sending to avoid message size limits. See b/62115660.\n",
              "    let position = 0;\n",
              "    do {\n",
              "      const length = Math.min(fileData.byteLength - position, MAX_PAYLOAD_SIZE);\n",
              "      const chunk = new Uint8Array(fileData, position, length);\n",
              "      position += length;\n",
              "\n",
              "      const base64 = btoa(String.fromCharCode.apply(null, chunk));\n",
              "      yield {\n",
              "        response: {\n",
              "          action: 'append',\n",
              "          file: file.name,\n",
              "          data: base64,\n",
              "        },\n",
              "      };\n",
              "\n",
              "      let percentDone = fileData.byteLength === 0 ?\n",
              "          100 :\n",
              "          Math.round((position / fileData.byteLength) * 100);\n",
              "      percent.textContent = `${percentDone}% done`;\n",
              "\n",
              "    } while (position < fileData.byteLength);\n",
              "  }\n",
              "\n",
              "  // All done.\n",
              "  yield {\n",
              "    response: {\n",
              "      action: 'complete',\n",
              "    }\n",
              "  };\n",
              "}\n",
              "\n",
              "scope.google = scope.google || {};\n",
              "scope.google.colab = scope.google.colab || {};\n",
              "scope.google.colab._files = {\n",
              "  _uploadFiles,\n",
              "  _uploadFilesContinue,\n",
              "};\n",
              "})(self);\n",
              "</script> "
            ]
          },
          "metadata": {}
        },
        {
          "output_type": "stream",
          "name": "stdout",
          "text": [
            "Saving homework.zip to homework.zip\n"
          ]
        }
      ]
    },
    {
      "cell_type": "code",
      "source": [
        "import zipfile\n",
        "import os\n",
        "\n",
        "with zipfile.ZipFile('homework.zip', 'r') as zip_ref:\n",
        "    zip_ref.extractall('/content/')"
      ],
      "metadata": {
        "id": "yvgoK3AED3zi"
      },
      "execution_count": null,
      "outputs": []
    },
    {
      "cell_type": "code",
      "source": [
        "root_path = '/content/data/'\n",
        "files = os.listdir(root_path)\n"
      ],
      "metadata": {
        "id": "2x5YNI9KEYhc"
      },
      "execution_count": null,
      "outputs": []
    },
    {
      "cell_type": "code",
      "source": [
        "subfolder_path = os.path.join(root_path)\n",
        "if os.path.isdir(subfolder_path):\n",
        "    subfolder_files = os.listdir(subfolder_path)\n",
        "    print(f\" вкладеній папці :\", subfolder_files)\n",
        "else:\n",
        "    print(\"Папка не містить вкладених папок.\")\n"
      ],
      "metadata": {
        "colab": {
          "base_uri": "https://localhost:8080/"
        },
        "id": "Mcppjq50HiH3",
        "outputId": "c32ba67f-d383-4dbf-9380-1e30f302a04b"
      },
      "execution_count": null,
      "outputs": [
        {
          "output_type": "stream",
          "name": "stdout",
          "text": [
            " вкладеній папці : ['idle', 'running', 'walking', 'stairs']\n"
          ]
        }
      ]
    },
    {
      "cell_type": "code",
      "source": [
        "df1 = pd.read_csv(\"/content/data/idle/idle-1.csv\")\n",
        "df1.head()"
      ],
      "metadata": {
        "colab": {
          "base_uri": "https://localhost:8080/",
          "height": 206
        },
        "id": "AzV9Es5mXMiT",
        "outputId": "a7cb9178-bc27-4fd3-ac52-9a12dacb0990"
      },
      "execution_count": null,
      "outputs": [
        {
          "output_type": "execute_result",
          "data": {
            "text/plain": [
              "   accelerometer_X  accelerometer_Y  accelerometer_Z\n",
              "0         1.000776         4.616021         8.576031\n",
              "1         0.718261         4.209007         8.446744\n",
              "2        -0.909797        -0.282516         9.203311\n",
              "3         5.099650         0.148441         8.418014\n",
              "4         1.762132        -0.162806         9.251195"
            ],
            "text/html": [
              "\n",
              "  <div id=\"df-5d913fba-dbfd-4f07-a290-7b8ba00e1bfb\" class=\"colab-df-container\">\n",
              "    <div>\n",
              "<style scoped>\n",
              "    .dataframe tbody tr th:only-of-type {\n",
              "        vertical-align: middle;\n",
              "    }\n",
              "\n",
              "    .dataframe tbody tr th {\n",
              "        vertical-align: top;\n",
              "    }\n",
              "\n",
              "    .dataframe thead th {\n",
              "        text-align: right;\n",
              "    }\n",
              "</style>\n",
              "<table border=\"1\" class=\"dataframe\">\n",
              "  <thead>\n",
              "    <tr style=\"text-align: right;\">\n",
              "      <th></th>\n",
              "      <th>accelerometer_X</th>\n",
              "      <th>accelerometer_Y</th>\n",
              "      <th>accelerometer_Z</th>\n",
              "    </tr>\n",
              "  </thead>\n",
              "  <tbody>\n",
              "    <tr>\n",
              "      <th>0</th>\n",
              "      <td>1.000776</td>\n",
              "      <td>4.616021</td>\n",
              "      <td>8.576031</td>\n",
              "    </tr>\n",
              "    <tr>\n",
              "      <th>1</th>\n",
              "      <td>0.718261</td>\n",
              "      <td>4.209007</td>\n",
              "      <td>8.446744</td>\n",
              "    </tr>\n",
              "    <tr>\n",
              "      <th>2</th>\n",
              "      <td>-0.909797</td>\n",
              "      <td>-0.282516</td>\n",
              "      <td>9.203311</td>\n",
              "    </tr>\n",
              "    <tr>\n",
              "      <th>3</th>\n",
              "      <td>5.099650</td>\n",
              "      <td>0.148441</td>\n",
              "      <td>8.418014</td>\n",
              "    </tr>\n",
              "    <tr>\n",
              "      <th>4</th>\n",
              "      <td>1.762132</td>\n",
              "      <td>-0.162806</td>\n",
              "      <td>9.251195</td>\n",
              "    </tr>\n",
              "  </tbody>\n",
              "</table>\n",
              "</div>\n",
              "    <div class=\"colab-df-buttons\">\n",
              "\n",
              "  <div class=\"colab-df-container\">\n",
              "    <button class=\"colab-df-convert\" onclick=\"convertToInteractive('df-5d913fba-dbfd-4f07-a290-7b8ba00e1bfb')\"\n",
              "            title=\"Convert this dataframe to an interactive table.\"\n",
              "            style=\"display:none;\">\n",
              "\n",
              "  <svg xmlns=\"http://www.w3.org/2000/svg\" height=\"24px\" viewBox=\"0 -960 960 960\">\n",
              "    <path d=\"M120-120v-720h720v720H120Zm60-500h600v-160H180v160Zm220 220h160v-160H400v160Zm0 220h160v-160H400v160ZM180-400h160v-160H180v160Zm440 0h160v-160H620v160ZM180-180h160v-160H180v160Zm440 0h160v-160H620v160Z\"/>\n",
              "  </svg>\n",
              "    </button>\n",
              "\n",
              "  <style>\n",
              "    .colab-df-container {\n",
              "      display:flex;\n",
              "      gap: 12px;\n",
              "    }\n",
              "\n",
              "    .colab-df-convert {\n",
              "      background-color: #E8F0FE;\n",
              "      border: none;\n",
              "      border-radius: 50%;\n",
              "      cursor: pointer;\n",
              "      display: none;\n",
              "      fill: #1967D2;\n",
              "      height: 32px;\n",
              "      padding: 0 0 0 0;\n",
              "      width: 32px;\n",
              "    }\n",
              "\n",
              "    .colab-df-convert:hover {\n",
              "      background-color: #E2EBFA;\n",
              "      box-shadow: 0px 1px 2px rgba(60, 64, 67, 0.3), 0px 1px 3px 1px rgba(60, 64, 67, 0.15);\n",
              "      fill: #174EA6;\n",
              "    }\n",
              "\n",
              "    .colab-df-buttons div {\n",
              "      margin-bottom: 4px;\n",
              "    }\n",
              "\n",
              "    [theme=dark] .colab-df-convert {\n",
              "      background-color: #3B4455;\n",
              "      fill: #D2E3FC;\n",
              "    }\n",
              "\n",
              "    [theme=dark] .colab-df-convert:hover {\n",
              "      background-color: #434B5C;\n",
              "      box-shadow: 0px 1px 3px 1px rgba(0, 0, 0, 0.15);\n",
              "      filter: drop-shadow(0px 1px 2px rgba(0, 0, 0, 0.3));\n",
              "      fill: #FFFFFF;\n",
              "    }\n",
              "  </style>\n",
              "\n",
              "    <script>\n",
              "      const buttonEl =\n",
              "        document.querySelector('#df-5d913fba-dbfd-4f07-a290-7b8ba00e1bfb button.colab-df-convert');\n",
              "      buttonEl.style.display =\n",
              "        google.colab.kernel.accessAllowed ? 'block' : 'none';\n",
              "\n",
              "      async function convertToInteractive(key) {\n",
              "        const element = document.querySelector('#df-5d913fba-dbfd-4f07-a290-7b8ba00e1bfb');\n",
              "        const dataTable =\n",
              "          await google.colab.kernel.invokeFunction('convertToInteractive',\n",
              "                                                    [key], {});\n",
              "        if (!dataTable) return;\n",
              "\n",
              "        const docLinkHtml = 'Like what you see? Visit the ' +\n",
              "          '<a target=\"_blank\" href=https://colab.research.google.com/notebooks/data_table.ipynb>data table notebook</a>'\n",
              "          + ' to learn more about interactive tables.';\n",
              "        element.innerHTML = '';\n",
              "        dataTable['output_type'] = 'display_data';\n",
              "        await google.colab.output.renderOutput(dataTable, element);\n",
              "        const docLink = document.createElement('div');\n",
              "        docLink.innerHTML = docLinkHtml;\n",
              "        element.appendChild(docLink);\n",
              "      }\n",
              "    </script>\n",
              "  </div>\n",
              "\n",
              "\n",
              "<div id=\"df-60d15e3c-c860-456c-8f65-a8b27bf819f8\">\n",
              "  <button class=\"colab-df-quickchart\" onclick=\"quickchart('df-60d15e3c-c860-456c-8f65-a8b27bf819f8')\"\n",
              "            title=\"Suggest charts\"\n",
              "            style=\"display:none;\">\n",
              "\n",
              "<svg xmlns=\"http://www.w3.org/2000/svg\" height=\"24px\"viewBox=\"0 0 24 24\"\n",
              "     width=\"24px\">\n",
              "    <g>\n",
              "        <path d=\"M19 3H5c-1.1 0-2 .9-2 2v14c0 1.1.9 2 2 2h14c1.1 0 2-.9 2-2V5c0-1.1-.9-2-2-2zM9 17H7v-7h2v7zm4 0h-2V7h2v10zm4 0h-2v-4h2v4z\"/>\n",
              "    </g>\n",
              "</svg>\n",
              "  </button>\n",
              "\n",
              "<style>\n",
              "  .colab-df-quickchart {\n",
              "      --bg-color: #E8F0FE;\n",
              "      --fill-color: #1967D2;\n",
              "      --hover-bg-color: #E2EBFA;\n",
              "      --hover-fill-color: #174EA6;\n",
              "      --disabled-fill-color: #AAA;\n",
              "      --disabled-bg-color: #DDD;\n",
              "  }\n",
              "\n",
              "  [theme=dark] .colab-df-quickchart {\n",
              "      --bg-color: #3B4455;\n",
              "      --fill-color: #D2E3FC;\n",
              "      --hover-bg-color: #434B5C;\n",
              "      --hover-fill-color: #FFFFFF;\n",
              "      --disabled-bg-color: #3B4455;\n",
              "      --disabled-fill-color: #666;\n",
              "  }\n",
              "\n",
              "  .colab-df-quickchart {\n",
              "    background-color: var(--bg-color);\n",
              "    border: none;\n",
              "    border-radius: 50%;\n",
              "    cursor: pointer;\n",
              "    display: none;\n",
              "    fill: var(--fill-color);\n",
              "    height: 32px;\n",
              "    padding: 0;\n",
              "    width: 32px;\n",
              "  }\n",
              "\n",
              "  .colab-df-quickchart:hover {\n",
              "    background-color: var(--hover-bg-color);\n",
              "    box-shadow: 0 1px 2px rgba(60, 64, 67, 0.3), 0 1px 3px 1px rgba(60, 64, 67, 0.15);\n",
              "    fill: var(--button-hover-fill-color);\n",
              "  }\n",
              "\n",
              "  .colab-df-quickchart-complete:disabled,\n",
              "  .colab-df-quickchart-complete:disabled:hover {\n",
              "    background-color: var(--disabled-bg-color);\n",
              "    fill: var(--disabled-fill-color);\n",
              "    box-shadow: none;\n",
              "  }\n",
              "\n",
              "  .colab-df-spinner {\n",
              "    border: 2px solid var(--fill-color);\n",
              "    border-color: transparent;\n",
              "    border-bottom-color: var(--fill-color);\n",
              "    animation:\n",
              "      spin 1s steps(1) infinite;\n",
              "  }\n",
              "\n",
              "  @keyframes spin {\n",
              "    0% {\n",
              "      border-color: transparent;\n",
              "      border-bottom-color: var(--fill-color);\n",
              "      border-left-color: var(--fill-color);\n",
              "    }\n",
              "    20% {\n",
              "      border-color: transparent;\n",
              "      border-left-color: var(--fill-color);\n",
              "      border-top-color: var(--fill-color);\n",
              "    }\n",
              "    30% {\n",
              "      border-color: transparent;\n",
              "      border-left-color: var(--fill-color);\n",
              "      border-top-color: var(--fill-color);\n",
              "      border-right-color: var(--fill-color);\n",
              "    }\n",
              "    40% {\n",
              "      border-color: transparent;\n",
              "      border-right-color: var(--fill-color);\n",
              "      border-top-color: var(--fill-color);\n",
              "    }\n",
              "    60% {\n",
              "      border-color: transparent;\n",
              "      border-right-color: var(--fill-color);\n",
              "    }\n",
              "    80% {\n",
              "      border-color: transparent;\n",
              "      border-right-color: var(--fill-color);\n",
              "      border-bottom-color: var(--fill-color);\n",
              "    }\n",
              "    90% {\n",
              "      border-color: transparent;\n",
              "      border-bottom-color: var(--fill-color);\n",
              "    }\n",
              "  }\n",
              "</style>\n",
              "\n",
              "  <script>\n",
              "    async function quickchart(key) {\n",
              "      const quickchartButtonEl =\n",
              "        document.querySelector('#' + key + ' button');\n",
              "      quickchartButtonEl.disabled = true;  // To prevent multiple clicks.\n",
              "      quickchartButtonEl.classList.add('colab-df-spinner');\n",
              "      try {\n",
              "        const charts = await google.colab.kernel.invokeFunction(\n",
              "            'suggestCharts', [key], {});\n",
              "      } catch (error) {\n",
              "        console.error('Error during call to suggestCharts:', error);\n",
              "      }\n",
              "      quickchartButtonEl.classList.remove('colab-df-spinner');\n",
              "      quickchartButtonEl.classList.add('colab-df-quickchart-complete');\n",
              "    }\n",
              "    (() => {\n",
              "      let quickchartButtonEl =\n",
              "        document.querySelector('#df-60d15e3c-c860-456c-8f65-a8b27bf819f8 button');\n",
              "      quickchartButtonEl.style.display =\n",
              "        google.colab.kernel.accessAllowed ? 'block' : 'none';\n",
              "    })();\n",
              "  </script>\n",
              "</div>\n",
              "\n",
              "    </div>\n",
              "  </div>\n"
            ],
            "application/vnd.google.colaboratory.intrinsic+json": {
              "type": "dataframe",
              "variable_name": "df1",
              "summary": "{\n  \"name\": \"df1\",\n  \"rows\": 30,\n  \"fields\": [\n    {\n      \"column\": \"accelerometer_X\",\n      \"properties\": {\n        \"dtype\": \"number\",\n        \"std\": 1.0363608474565926,\n        \"min\": -0.909797,\n        \"max\": 5.09965,\n        \"num_unique_values\": 25,\n        \"samples\": [\n          -0.124498,\n          -0.1005559999999999,\n          1.000776\n        ],\n        \"semantic_type\": \"\",\n        \"description\": \"\"\n      }\n    },\n    {\n      \"column\": \"accelerometer_Y\",\n      \"properties\": {\n        \"dtype\": \"number\",\n        \"std\": 1.15760347498444,\n        \"min\": -0.282516,\n        \"max\": 4.616021,\n        \"num_unique_values\": 20,\n        \"samples\": [\n          4.616021,\n          -0.167594,\n          -0.234632\n        ],\n        \"semantic_type\": \"\",\n        \"description\": \"\"\n      }\n    },\n    {\n      \"column\": \"accelerometer_Z\",\n      \"properties\": {\n        \"dtype\": \"number\",\n        \"std\": 0.4069033795748119,\n        \"min\": 8.418014,\n        \"max\": 9.80665,\n        \"num_unique_values\": 16,\n        \"samples\": [\n          8.576031,\n          8.446744,\n          9.787497\n        ],\n        \"semantic_type\": \"\",\n        \"description\": \"\"\n      }\n    }\n  ]\n}"
            }
          },
          "metadata": {},
          "execution_count": 7
        }
      ]
    },
    {
      "cell_type": "markdown",
      "source": [],
      "metadata": {
        "id": "UDoENOBCXAI0"
      }
    },
    {
      "cell_type": "markdown",
      "source": [],
      "metadata": {
        "id": "eyNunjINU7Nt"
      }
    },
    {
      "cell_type": "code",
      "source": [
        "\n",
        "\n",
        "# Функція для обчислення показників для одного файлу\n",
        "def calculate_features(df, target_label):\n",
        "    counts_x, _ = np.histogram(df['accelerometer_X'], bins=10)\n",
        "    counts_y, _ = np.histogram(df['accelerometer_Y'], bins=10)\n",
        "    counts_z, _ = np.histogram(df['accelerometer_Z'], bins=10)\n",
        "    ent_x = entropy(counts_x, base=2)\n",
        "    ent_y = entropy(counts_y, base=2)\n",
        "    ent_z = entropy(counts_z, base=2)\n",
        "\n",
        "    mad_x = np.mean(np.abs(df['accelerometer_X'] - df['accelerometer_X'].mean()))\n",
        "    mad_y = np.mean(np.abs(df['accelerometer_Y'] - df['accelerometer_Y'].mean()))\n",
        "    mad_z = np.mean(np.abs(df['accelerometer_Z'] - df['accelerometer_Z'].mean()))\n",
        "\n",
        "    iqr_x = np.percentile(df['accelerometer_X'], 75) - np.percentile(df['accelerometer_X'], 25)\n",
        "    iqr_y = np.percentile(df['accelerometer_Y'], 75) - np.percentile(df['accelerometer_Y'], 25)\n",
        "    iqr_z = np.percentile(df['accelerometer_Z'], 75) - np.percentile(df['accelerometer_Z'], 25)\n",
        "\n",
        "    rms_x = np.sqrt(np.mean(df['accelerometer_X']**2))\n",
        "    rms_y = np.sqrt(np.mean(df['accelerometer_Y']**2))\n",
        "    rms_z = np.sqrt(np.mean(df['accelerometer_Z']**2))\n",
        "\n",
        "    fft_x = fft(np.asarray(df['accelerometer_X']))\n",
        "    fft_x_normalized = np.abs(fft_x) / np.max(np.abs(fft_x))\n",
        "\n",
        "    fft_y = fft(np.asarray(df['accelerometer_Y']))\n",
        "    fft_y_normalized = np.abs(fft_y) / np.max(np.abs(fft_y))\n",
        "\n",
        "    fft_z = fft(np.asarray(df['accelerometer_Z']))\n",
        "    fft_z_normalized = np.abs(fft_z) / np.max(np.abs(fft_z))\n",
        "    fft_x_features = fft_x_normalized[:5]  #  перші 5 компонентів\n",
        "    fft_y_features = fft_y_normalized[:5]\n",
        "    fft_z_features = fft_z_normalized[:5]\n",
        "\n",
        "    data = {\n",
        "        'x_min': [df.accelerometer_X.min()],\n",
        "        'x_idxmin': [df.accelerometer_X.idxmin()],\n",
        "        'x_max': [df.accelerometer_X.max()],\n",
        "        'x_idmax': [df.accelerometer_X.idxmax()],\n",
        "        'x_mean': [df.accelerometer_X.mean()],\n",
        "        'x_ent': [ent_x],\n",
        "        'x_mad': [mad_x],\n",
        "        'std_x': [df.accelerometer_X.std()],\n",
        "        'median_x': [df.accelerometer_X.median()],\n",
        "        'x_iqr': [iqr_x],\n",
        "        'skewness_x': [df.accelerometer_X.skew()],\n",
        "        'rms_x': [rms_x],\n",
        "        'var_x': [df.accelerometer_X.var()],\n",
        "        # 'fft_x_normalized': [fft_x_normalized],\n",
        "\n",
        "        'y_min': [df.accelerometer_Y.min()],\n",
        "        'y_idxmin': [df.accelerometer_Y.idxmin()],\n",
        "        'y_max': [df.accelerometer_Y.max()],\n",
        "        'y_idmax': [df.accelerometer_Y.idxmax()],\n",
        "        'y_mean': [df.accelerometer_Y.mean()],\n",
        "        'y_ent': [ent_y],\n",
        "        'y_mad': [mad_y],\n",
        "        'std_y': [df.accelerometer_Y.std()],\n",
        "        'median_y': [df.accelerometer_Y.median()],\n",
        "        'y_iqr': [iqr_y],\n",
        "        'skewness_y': [df.accelerometer_Y.skew()],\n",
        "        'rms_y': [rms_y],\n",
        "        'var_y': [df.accelerometer_Y.var()],\n",
        "        # 'fft_y_normalized': [fft_y_normalized],\n",
        "\n",
        "        'z_min': [df.accelerometer_Z.min()],\n",
        "        'z_idxmin': [df.accelerometer_Z.idxmin()],\n",
        "        'z_max': [df.accelerometer_Z.max()],\n",
        "        'z_idmax': [df.accelerometer_Z.idxmax()],\n",
        "        'z_mean': [df.accelerometer_Z.mean()],\n",
        "        'z_ent': [ent_z],\n",
        "        'z_mad': [mad_z],\n",
        "        'std_z': [df.accelerometer_Z.std()],\n",
        "        'median_z': [df.accelerometer_Z.median()],\n",
        "        'z_iqr': [iqr_z],\n",
        "        'skewness_z': [df.accelerometer_Z.skew()],\n",
        "        'rms_z': [rms_z],\n",
        "        'var_z': [df.accelerometer_Z.var()],\n",
        "        # 'fft_z_normalized': [fft_z_normalized],\n",
        "\n",
        "        'fft_x_1': [fft_x_features[0]],\n",
        "        'fft_x_2': [fft_x_features[1]],\n",
        "        'fft_x_3': [fft_x_features[2]],\n",
        "        'fft_x_4': [fft_x_features[3]],\n",
        "        'fft_x_5': [fft_x_features[4]],\n",
        "\n",
        "        'fft_y_1': [fft_y_features[0]],\n",
        "        'fft_y_2': [fft_y_features[1]],\n",
        "        'fft_y_3': [fft_y_features[2]],\n",
        "        'fft_y_4': [fft_y_features[3]],\n",
        "        'fft_y_5': [fft_y_features[4]],\n",
        "\n",
        "        'fft_z_1': [fft_z_features[0]],\n",
        "        'fft_z_2': [fft_z_features[1]],\n",
        "        'fft_z_3': [fft_z_features[2]],\n",
        "        'fft_z_4': [fft_z_features[3]],\n",
        "        'fft_z_5': [fft_z_features[4]],\n",
        "\n",
        "        'target': [target_label]\n",
        "    }\n",
        "\n",
        "    return pd.DataFrame.from_dict(data)\n",
        "\n",
        "# # Шлях до основної папки\n",
        "# root_path = '/content/data/'\n",
        "\n",
        "\n",
        "# Список папок (типи активності)\n",
        "subfolders = ['running', 'idle', 'stairs', 'walking']\n",
        "\n",
        "all_data = pd.DataFrame()\n",
        "\n",
        "# Цикл по всіх папках та файлах\n",
        "for folder in subfolders:\n",
        "    folder_path = os.path.join(root_path, folder)\n",
        "    for file in os.listdir(folder_path):\n",
        "        if file.endswith('.csv'):\n",
        "            file_path = os.path.join(folder_path, file)\n",
        "            df = pd.read_csv(file_path)\n",
        "\n",
        "            # Використання назви папки як мітки активності\n",
        "            target_label = folder\n",
        "\n",
        "            # Обчислюємо всі показники і додаємо їх до загального DataFrame\n",
        "            features_df = calculate_features(df, target_label=target_label)\n",
        "            all_data = pd.concat([all_data, features_df], ignore_index=True)\n",
        "\n",
        "\n"
      ],
      "metadata": {
        "id": "v5zYjCbYIo1z"
      },
      "execution_count": null,
      "outputs": []
    },
    {
      "cell_type": "code",
      "source": [
        "print(all_data)\n",
        "# all_data.to_csv(\"features.csv\", index=False)"
      ],
      "metadata": {
        "colab": {
          "base_uri": "https://localhost:8080/"
        },
        "id": "xc_3M5HM48lp",
        "outputId": "df73d129-64a2-40df-bb8b-e2f7f579bd1b"
      },
      "execution_count": null,
      "outputs": [
        {
          "output_type": "stream",
          "name": "stdout",
          "text": [
            "          x_min  x_idxmin      x_max  x_idmax    x_mean     x_ent     x_mad  \\\n",
            "0     -6.751649         4  34.749443       16  7.506461  2.921928  8.454416   \n",
            "1     -6.019023        10  28.562826       15  5.089115  2.764201  7.181073   \n",
            "2     -6.636727        18  27.562050       26  5.774016  3.072906  8.479252   \n",
            "3     -3.275268         3  21.490355        5  5.749596  3.013132  5.812143   \n",
            "4     -4.232949         7  21.777658        5  5.911603  2.831402  6.079282   \n",
            "...         ...       ...        ...      ...       ...       ...       ...   \n",
            "6457  -7.675811         2  14.877569       12 -0.163125  2.798186  3.682176   \n",
            "6458 -14.695610        17   2.106898       15 -4.416185  2.990759  3.012714   \n",
            "6459 -13.445837        17   5.750873       25 -4.138936  2.851933  3.527968   \n",
            "6460 -10.189722        29   3.280056       23 -3.292187  3.043019  2.853250   \n",
            "6461 -11.669339        18   8.475474       24 -0.440054  3.114409  4.014374   \n",
            "\n",
            "          std_x  median_x      x_iqr  ...   fft_y_2   fft_y_3   fft_y_4  \\\n",
            "0     10.395325  3.406950  13.335703  ...  0.097015  0.066714  0.029189   \n",
            "1      9.585729  1.570596   9.247604  ...  0.228457  0.220779  0.167511   \n",
            "2     10.215890  2.331952  15.431827  ...  0.128360  0.142307  0.248760   \n",
            "3      7.119763  3.643975   9.811438  ...  0.226209  0.204066  0.088360   \n",
            "4      7.770619  4.273651   8.105570  ...  0.183640  0.229780  0.126656   \n",
            "...         ...       ...        ...  ...       ...       ...       ...   \n",
            "6457   4.982189 -1.230620   4.732140  ...  0.062675  0.130871  0.184908   \n",
            "6458   3.976999 -3.950432   4.620808  ...  0.084177  0.159951  0.067006   \n",
            "6459   4.412521 -3.078943   4.406528  ...  0.098980  0.181787  0.093726   \n",
            "6460   3.459546 -3.315970   4.337096  ...  0.115180  0.096078  0.179106   \n",
            "6461   4.970690  0.100557   7.079654  ...  0.122380  0.072662  0.148181   \n",
            "\n",
            "       fft_y_5   fft_z_1   fft_z_2   fft_z_3   fft_z_4   fft_z_5   target  \n",
            "0     0.132919  0.627436  0.699148  0.218356  0.157430  0.418890  running  \n",
            "1     0.043966  0.168052  0.400138  0.528049  1.000000  0.254346  running  \n",
            "2     0.374646  0.298230  0.236263  0.301573  0.888920  0.521856  running  \n",
            "3     0.140621  0.630991  0.573636  0.580313  0.280713  0.549034  running  \n",
            "4     0.324191  1.000000  0.178019  0.408419  0.256112  0.070747  running  \n",
            "...        ...       ...       ...       ...       ...       ...      ...  \n",
            "6457  0.045052  0.779707  0.403153  0.177553  0.576643  0.634421  walking  \n",
            "6458  0.160803  1.000000  0.257286  0.544100  0.395243  0.362314  walking  \n",
            "6459  0.078642  0.022881  0.340340  0.747573  0.705118  0.495414  walking  \n",
            "6460  0.178709  0.292491  0.850808  1.000000  0.957237  0.495583  walking  \n",
            "6461  0.054651  0.075637  0.210915  0.422544  0.766954  1.000000  walking  \n",
            "\n",
            "[6462 rows x 55 columns]\n"
          ]
        }
      ]
    },
    {
      "cell_type": "code",
      "source": [
        "X = all_data.drop('target', axis=1)\n",
        "y = all_data['target']\n"
      ],
      "metadata": {
        "id": "T-x8111n8HjT"
      },
      "execution_count": null,
      "outputs": []
    },
    {
      "cell_type": "code",
      "source": [
        "from sklearn.model_selection import train_test_split\n",
        "from sklearn.svm import SVC\n",
        "X_train, X_test, y_train, y_test = train_test_split(X, y, test_size=0.2, random_state=42)\n"
      ],
      "metadata": {
        "id": "iR2PnTgE8Ywv"
      },
      "execution_count": null,
      "outputs": []
    },
    {
      "cell_type": "code",
      "source": [
        "from sklearn.preprocessing import StandardScaler\n",
        "\n",
        "scaler = StandardScaler()\n",
        "X_train_scaled = scaler.fit_transform(X_train)\n",
        "X_test_scaled = scaler.transform(X_test)\n",
        "\n",
        "svm_model = SVC(kernel=\"rbf\", C=1, decision_function_shape=\"ovr\")\n",
        "# svm_model = SVC(kernel='linear')\n",
        "svm_model.fit(X_train_scaled, y_train)\n",
        "\n",
        "svm_model.score(X_train_scaled, y_train)\n"
      ],
      "metadata": {
        "colab": {
          "base_uri": "https://localhost:8080/"
        },
        "id": "Ft1Xj9yzJ1RC",
        "outputId": "ad2a8882-4862-44c6-a6a6-749801f60fe1"
      },
      "execution_count": null,
      "outputs": [
        {
          "output_type": "execute_result",
          "data": {
            "text/plain": [
              "0.9984523118591604"
            ]
          },
          "metadata": {},
          "execution_count": 10
        }
      ]
    },
    {
      "cell_type": "code",
      "source": [
        "# Тест\n",
        "y_pred_svm = svm_model.predict(X_test_scaled)\n",
        "\n",
        "accuracy_test = svm_model.score(X_test_scaled, y_test)\n",
        "accuracy_test"
      ],
      "metadata": {
        "colab": {
          "base_uri": "https://localhost:8080/"
        },
        "id": "dJsRrqggogF-",
        "outputId": "91bc5f0b-0985-45bf-9951-53171e12697e"
      },
      "execution_count": null,
      "outputs": [
        {
          "output_type": "execute_result",
          "data": {
            "text/plain": [
              "0.9976798143851509"
            ]
          },
          "metadata": {},
          "execution_count": 11
        }
      ]
    },
    {
      "cell_type": "code",
      "source": [
        "# from sklearn.tree import DecisionTreeClassifier\n",
        "# tree_model = DecisionTreeClassifier(max_depth=6, min_samples_leaf=1)\n",
        "# tree_model.fit(X_train, y_train)\n",
        "\n",
        "# print(tree_model.score(X_train, y_train))\n",
        "# print(tree_model.score(X_test, y_test))"
      ],
      "metadata": {
        "colab": {
          "base_uri": "https://localhost:8080/"
        },
        "id": "qgKVixcz1P3x",
        "outputId": "a6c273da-12a3-40f9-ff8b-46c776c0c147"
      },
      "execution_count": null,
      "outputs": [
        {
          "output_type": "stream",
          "name": "stdout",
          "text": [
            "0.9974850067711356\n",
            "0.9891724671307038\n"
          ]
        }
      ]
    },
    {
      "cell_type": "code",
      "source": [
        "# tree_model.feature_importances_"
      ],
      "metadata": {
        "colab": {
          "base_uri": "https://localhost:8080/"
        },
        "id": "fGoNjUCkdfEd",
        "outputId": "ee5f30e8-b35b-432c-d3fe-ec50ecae369d"
      },
      "execution_count": null,
      "outputs": [
        {
          "output_type": "execute_result",
          "data": {
            "text/plain": [
              "array([2.14943269e-02, 0.00000000e+00, 0.00000000e+00, 0.00000000e+00,\n",
              "       0.00000000e+00, 0.00000000e+00, 0.00000000e+00, 0.00000000e+00,\n",
              "       6.57780612e-03, 0.00000000e+00, 6.11560219e-04, 0.00000000e+00,\n",
              "       0.00000000e+00, 0.00000000e+00, 0.00000000e+00, 6.06667267e-01,\n",
              "       0.00000000e+00, 3.22931218e-01, 2.27941547e-03, 0.00000000e+00,\n",
              "       0.00000000e+00, 0.00000000e+00, 0.00000000e+00, 0.00000000e+00,\n",
              "       0.00000000e+00, 0.00000000e+00, 0.00000000e+00, 0.00000000e+00,\n",
              "       1.16005966e-02, 0.00000000e+00, 0.00000000e+00, 0.00000000e+00,\n",
              "       9.83717156e-03, 0.00000000e+00, 0.00000000e+00, 1.54145220e-02,\n",
              "       0.00000000e+00, 0.00000000e+00, 1.68855565e-03, 0.00000000e+00,\n",
              "       0.00000000e+00, 0.00000000e+00, 0.00000000e+00, 5.87979199e-04,\n",
              "       0.00000000e+00, 3.09581930e-04, 0.00000000e+00, 0.00000000e+00,\n",
              "       0.00000000e+00, 0.00000000e+00, 0.00000000e+00, 0.00000000e+00,\n",
              "       0.00000000e+00, 0.00000000e+00])"
            ]
          },
          "metadata": {},
          "execution_count": 13
        }
      ]
    },
    {
      "cell_type": "code",
      "source": [
        "# from sklearn.tree import export_graphviz\n",
        "# import graphviz\n",
        "# dot_data = export_graphviz(\n",
        "#        tree_model, out_file=None,\n",
        "#        feature_names=X_train.columns,\n",
        "#       #  feature_names=feature_names,\n",
        "#        class_names=y_train.unique(),\n",
        "#        rounded=True, proportion=False, filled=True, special_characters=True\n",
        "#    )\n",
        "# graph = graphviz.Source(dot_data)\n",
        "# graph.render(\"all_data_tree\")\n",
        "# graph"
      ],
      "metadata": {
        "id": "NziFUVO7eAFT"
      },
      "execution_count": null,
      "outputs": []
    },
    {
      "cell_type": "code",
      "source": [
        "# import matplotlib.pyplot as plt\n",
        "# plt.figure(figsize=(8, 10))\n",
        "# plt.barh(range(len(tree_model.feature_importances_)), tree_model.feature_importances_)\n",
        "# plt.yticks(range(len(X_train.columns)), X_train.columns)\n",
        "# plt.show()"
      ],
      "metadata": {
        "colab": {
          "base_uri": "https://localhost:8080/",
          "height": 830
        },
        "id": "Ze5Cv494xz6q",
        "outputId": "ee39c3fa-e519-43b7-ea2e-06bf19eb9207"
      },
      "execution_count": null,
      "outputs": [
        {
          "output_type": "display_data",
          "data": {
            "text/plain": [
              "<Figure size 800x1000 with 1 Axes>"
            ],
            "image/png": "[encoded data removed]"
          },
          "metadata": {}
        }
      ]
    },
    {
      "cell_type": "code",
      "source": [
        "\n",
        "from sklearn.model_selection import  GridSearchCV\n",
        "from sklearn.ensemble import RandomForestClassifier\n",
        "from sklearn.metrics import accuracy_score\n",
        "\n",
        "model = RandomForestClassifier()\n",
        "\n",
        "# Визначення сітки гіперпараметрів для перебору\n",
        "param_grid = {\n",
        "    'n_estimators': [100, 200, 300, 500],\n",
        "    'max_features': ['sqrt', 'log2'],\n",
        "    'max_depth': [None, 5, 10, 15, 20],\n",
        "    'min_samples_leaf': [1, 2, 4, 5],\n",
        "    'bootstrap': [True, False]\n",
        "\n",
        "}\n",
        "\n",
        "# Створення об'єкта GridSearchCV\n",
        "grid_search = GridSearchCV(estimator=model, param_grid=param_grid, cv=5, scoring='accuracy')\n",
        "\n",
        "# Запуск пошуку найкращих гіперпараметрів\n",
        "grid_search.fit(X_train, y_train)"
      ],
      "metadata": {
        "colab": {
          "base_uri": "https://localhost:8080/",
          "height": 117
        },
        "id": "I_89I1sl72i0",
        "outputId": "f6777743-5466-4588-9859-3737390df174"
      },
      "execution_count": null,
      "outputs": [
        {
          "output_type": "execute_result",
          "data": {
            "text/plain": [
              "GridSearchCV(cv=5, estimator=RandomForestClassifier(),\n",
              "             param_grid={'bootstrap': [True, False],\n",
              "                         'max_depth': [None, 5, 10, 15, 20],\n",
              "                         'max_features': ['sqrt', 'log2'],\n",
              "                         'min_samples_leaf': [1, 2, 4, 5],\n",
              "                         'n_estimators': [100, 200, 300, 500]},\n",
              "             scoring='accuracy')"
            ],
            "text/html": [
              "<style>#sk-container-id-4 {color: black;}#sk-container-id-4 pre{padding: 0;}#sk-container-id-4 div.sk-toggleable {background-color: white;}#sk-container-id-4 label.sk-toggleable__label {cursor: pointer;display: block;width: 100%;margin-bottom: 0;padding: 0.3em;box-sizing: border-box;text-align: center;}#sk-container-id-4 label.sk-toggleable__label-arrow:before {content: \"▸\";float: left;margin-right: 0.25em;color: #696969;}#sk-container-id-4 label.sk-toggleable__label-arrow:hover:before {color: black;}#sk-container-id-4 div.sk-estimator:hover label.sk-toggleable__label-arrow:before {color: black;}#sk-container-id-4 div.sk-toggleable__content {max-height: 0;max-width: 0;overflow: hidden;text-align: left;background-color: #f0f8ff;}#sk-container-id-4 div.sk-toggleable__content pre {margin: 0.2em;color: black;border-radius: 0.25em;background-color: #f0f8ff;}#sk-container-id-4 input.sk-toggleable__control:checked~div.sk-toggleable__content {max-height: 200px;max-width: 100%;overflow: auto;}#sk-container-id-4 input.sk-toggleable__control:checked~label.sk-toggleable__label-arrow:before {content: \"▾\";}#sk-container-id-4 div.sk-estimator input.sk-toggleable__control:checked~label.sk-toggleable__label {background-color: #d4ebff;}#sk-container-id-4 div.sk-label input.sk-toggleable__control:checked~label.sk-toggleable__label {background-color: #d4ebff;}#sk-container-id-4 input.sk-hidden--visually {border: 0;clip: rect(1px 1px 1px 1px);clip: rect(1px, 1px, 1px, 1px);height: 1px;margin: -1px;overflow: hidden;padding: 0;position: absolute;width: 1px;}#sk-container-id-4 div.sk-estimator {font-family: monospace;background-color: #f0f8ff;border: 1px dotted black;border-radius: 0.25em;box-sizing: border-box;margin-bottom: 0.5em;}#sk-container-id-4 div.sk-estimator:hover {background-color: #d4ebff;}#sk-container-id-4 div.sk-parallel-item::after {content: \"\";width: 100%;border-bottom: 1px solid gray;flex-grow: 1;}#sk-container-id-4 div.sk-label:hover label.sk-toggleable__label {background-color: #d4ebff;}#sk-container-id-4 div.sk-serial::before {content: \"\";position: absolute;border-left: 1px solid gray;box-sizing: border-box;top: 0;bottom: 0;left: 50%;z-index: 0;}#sk-container-id-4 div.sk-serial {display: flex;flex-direction: column;align-items: center;background-color: white;padding-right: 0.2em;padding-left: 0.2em;position: relative;}#sk-container-id-4 div.sk-item {position: relative;z-index: 1;}#sk-container-id-4 div.sk-parallel {display: flex;align-items: stretch;justify-content: center;background-color: white;position: relative;}#sk-container-id-4 div.sk-item::before, #sk-container-id-4 div.sk-parallel-item::before {content: \"\";position: absolute;border-left: 1px solid gray;box-sizing: border-box;top: 0;bottom: 0;left: 50%;z-index: -1;}#sk-container-id-4 div.sk-parallel-item {display: flex;flex-direction: column;z-index: 1;position: relative;background-color: white;}#sk-container-id-4 div.sk-parallel-item:first-child::after {align-self: flex-end;width: 50%;}#sk-container-id-4 div.sk-parallel-item:last-child::after {align-self: flex-start;width: 50%;}#sk-container-id-4 div.sk-parallel-item:only-child::after {width: 0;}#sk-container-id-4 div.sk-dashed-wrapped {border: 1px dashed gray;margin: 0 0.4em 0.5em 0.4em;box-sizing: border-box;padding-bottom: 0.4em;background-color: white;}#sk-container-id-4 div.sk-label label {font-family: monospace;font-weight: bold;display: inline-block;line-height: 1.2em;}#sk-container-id-4 div.sk-label-container {text-align: center;}#sk-container-id-4 div.sk-container {/* jupyter's `normalize.less` sets `[hidden] { display: none; }` but bootstrap.min.css set `[hidden] { display: none !important; }` so we also need the `!important` here to be able to override the default hidden behavior on the sphinx rendered scikit-learn.org. See: https://github.com/scikit-learn/scikit-learn/issues/21755 */display: inline-block !important;position: relative;}#sk-container-id-4 div.sk-text-repr-fallback {display: none;}</style><div id=\"sk-container-id-4\" class=\"sk-top-container\"><div class=\"sk-text-repr-fallback\"><pre>GridSearchCV(cv=5, estimator=RandomForestClassifier(),\n",
              "             param_grid={&#x27;bootstrap&#x27;: [True, False],\n",
              "                         &#x27;max_depth&#x27;: [None, 5, 10, 15, 20],\n",
              "                         &#x27;max_features&#x27;: [&#x27;sqrt&#x27;, &#x27;log2&#x27;],\n",
              "                         &#x27;min_samples_leaf&#x27;: [1, 2, 4, 5],\n",
              "                         &#x27;n_estimators&#x27;: [100, 200, 300, 500]},\n",
              "             scoring=&#x27;accuracy&#x27;)</pre><b>In a Jupyter environment, please rerun this cell to show the HTML representation or trust the notebook. <br />On GitHub, the HTML representation is unable to render, please try loading this page with nbviewer.org.</b></div><div class=\"sk-container\" hidden><div class=\"sk-item sk-dashed-wrapped\"><div class=\"sk-label-container\"><div class=\"sk-label sk-toggleable\"><input class=\"sk-toggleable__control sk-hidden--visually\" id=\"sk-estimator-id-10\" type=\"checkbox\" ><label for=\"sk-estimator-id-10\" class=\"sk-toggleable__label sk-toggleable__label-arrow\">GridSearchCV</label><div class=\"sk-toggleable__content\"><pre>GridSearchCV(cv=5, estimator=RandomForestClassifier(),\n",
              "             param_grid={&#x27;bootstrap&#x27;: [True, False],\n",
              "                         &#x27;max_depth&#x27;: [None, 5, 10, 15, 20],\n",
              "                         &#x27;max_features&#x27;: [&#x27;sqrt&#x27;, &#x27;log2&#x27;],\n",
              "                         &#x27;min_samples_leaf&#x27;: [1, 2, 4, 5],\n",
              "                         &#x27;n_estimators&#x27;: [100, 200, 300, 500]},\n",
              "             scoring=&#x27;accuracy&#x27;)</pre></div></div></div><div class=\"sk-parallel\"><div class=\"sk-parallel-item\"><div class=\"sk-item\"><div class=\"sk-label-container\"><div class=\"sk-label sk-toggleable\"><input class=\"sk-toggleable__control sk-hidden--visually\" id=\"sk-estimator-id-11\" type=\"checkbox\" ><label for=\"sk-estimator-id-11\" class=\"sk-toggleable__label sk-toggleable__label-arrow\">estimator: RandomForestClassifier</label><div class=\"sk-toggleable__content\"><pre>RandomForestClassifier()</pre></div></div></div><div class=\"sk-serial\"><div class=\"sk-item\"><div class=\"sk-estimator sk-toggleable\"><input class=\"sk-toggleable__control sk-hidden--visually\" id=\"sk-estimator-id-12\" type=\"checkbox\" ><label for=\"sk-estimator-id-12\" class=\"sk-toggleable__label sk-toggleable__label-arrow\">RandomForestClassifier</label><div class=\"sk-toggleable__content\"><pre>RandomForestClassifier()</pre></div></div></div></div></div></div></div></div></div></div>"
            ]
          },
          "metadata": {},
          "execution_count": 30
        }
      ]
    },
    {
      "cell_type": "code",
      "source": [
        "# Вивід найкращих знайдених гіперпараметрів\n",
        "print(\"Найкращі параметри:\", grid_search.best_params_)\n",
        "\n",
        "# Оцінка точності моделі з найкращими параметрами\n",
        "best_model = grid_search.best_estimator_\n",
        "y_pred = best_model.predict(X_test)\n",
        "accuracy = accuracy_score(y_test, y_pred)\n",
        "print(f\"Точність моделі з найкращими параметрами: {accuracy}\")"
      ],
      "metadata": {
        "colab": {
          "base_uri": "https://localhost:8080/"
        },
        "id": "hjAjuOLH72lm",
        "outputId": "c3d93d8d-4631-4ee3-a19b-6507f5aed506"
      },
      "execution_count": null,
      "outputs": [
        {
          "output_type": "stream",
          "name": "stdout",
          "text": [
            "Найкращі параметри: {'bootstrap': False, 'max_depth': 15, 'max_features': 'log2', 'min_samples_leaf': 1, 'n_estimators': 100}\n",
            "Точність моделі з найкращими параметрами: 0.9992266047950503\n"
          ]
        }
      ]
    },
    {
      "cell_type": "code",
      "source": [
        "y_pred_train = best_model.predict(X_train)\n",
        "accuracy_train = accuracy_score(y_train, y_pred_train)\n",
        "accuracy_train"
      ],
      "metadata": {
        "colab": {
          "base_uri": "https://localhost:8080/"
        },
        "id": "YMKWWUjmUcFu",
        "outputId": "50441a99-f0d8-43c8-c9f5-5882661cde0b"
      },
      "execution_count": null,
      "outputs": [
        {
          "output_type": "execute_result",
          "data": {
            "text/plain": [
              "1.0"
            ]
          },
          "metadata": {},
          "execution_count": 33
        }
      ]
    },
    {
      "cell_type": "code",
      "source": [
        "\n",
        "rf_model = RandomForestClassifier(n_estimators=100, random_state=42)\n",
        "rf_model.fit(X_train, y_train)\n",
        "rf_model.score(X_train, y_train)\n",
        "# y_pred_rf = rf_model.predict(X_test)\n",
        "# print(rf_model.score(X_test, y_test))"
      ],
      "metadata": {
        "colab": {
          "base_uri": "https://localhost:8080/"
        },
        "id": "BBCTXjRqlWJ-",
        "outputId": "ec18501e-4a1b-46f4-9b22-44fe256164b3"
      },
      "execution_count": null,
      "outputs": [
        {
          "output_type": "execute_result",
          "data": {
            "text/plain": [
              "1.0"
            ]
          },
          "metadata": {},
          "execution_count": 18
        }
      ]
    },
    {
      "cell_type": "code",
      "source": [
        "y_pred_rf = rf_model.predict(X_test)\n",
        "print(rf_model.score(X_test, y_test))\n",
        "\n"
      ],
      "metadata": {
        "colab": {
          "base_uri": "https://localhost:8080/"
        },
        "id": "R3_Hz9xsyJJ3",
        "outputId": "1cbc5d3a-6934-4af3-de60-12aa118179ca"
      },
      "execution_count": null,
      "outputs": [
        {
          "output_type": "stream",
          "name": "stdout",
          "text": [
            "0.9984532095901005\n"
          ]
        }
      ]
    },
    {
      "cell_type": "code",
      "source": [
        "from sklearn.metrics import classification_report\n",
        "\n",
        "# Оцінка SVM\n",
        "print(\"Classification Report for SVM:\")\n",
        "print(classification_report(y_test, y_pred_svm))\n",
        "\n",
        "# Оцінка випадкового лісу\n",
        "print(\"Classification Report for Random Forest:\")\n",
        "print(classification_report(y_test, y_pred_rf))\n",
        "\n",
        "# Оцінка випадкового лісу\n",
        "print(\"Classification Report GridSearchCV for Random Forest:\")\n",
        "print(classification_report(y_test, y_pred))"
      ],
      "metadata": {
        "colab": {
          "base_uri": "https://localhost:8080/"
        },
        "id": "2ArjgJfZzOZT",
        "outputId": "98e2ac57-c0d2-4695-9001-90b50c12db9e"
      },
      "execution_count": null,
      "outputs": [
        {
          "output_type": "stream",
          "name": "stdout",
          "text": [
            "Classification Report for SVM:\n",
            "              precision    recall  f1-score   support\n",
            "\n",
            "        idle       1.00      1.00      1.00       208\n",
            "     running       1.00      1.00      1.00       701\n",
            "      stairs       1.00      0.90      0.95        30\n",
            "     walking       0.99      1.00      1.00       354\n",
            "\n",
            "    accuracy                           1.00      1293\n",
            "   macro avg       1.00      0.97      0.99      1293\n",
            "weighted avg       1.00      1.00      1.00      1293\n",
            "\n",
            "Classification Report for Random Forest:\n",
            "              precision    recall  f1-score   support\n",
            "\n",
            "        idle       1.00      1.00      1.00       208\n",
            "     running       1.00      1.00      1.00       701\n",
            "      stairs       1.00      0.93      0.97        30\n",
            "     walking       0.99      1.00      1.00       354\n",
            "\n",
            "    accuracy                           1.00      1293\n",
            "   macro avg       1.00      0.98      0.99      1293\n",
            "weighted avg       1.00      1.00      1.00      1293\n",
            "\n",
            "Classification Report GridSearchCV for Random Forest:\n",
            "              precision    recall  f1-score   support\n",
            "\n",
            "        idle       1.00      1.00      1.00       208\n",
            "     running       1.00      1.00      1.00       701\n",
            "      stairs       1.00      0.97      0.98        30\n",
            "     walking       1.00      1.00      1.00       354\n",
            "\n",
            "    accuracy                           1.00      1293\n",
            "   macro avg       1.00      0.99      1.00      1293\n",
            "weighted avg       1.00      1.00      1.00      1293\n",
            "\n"
          ]
        }
      ]
    }
  ]
}